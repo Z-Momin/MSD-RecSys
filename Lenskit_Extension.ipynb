{
 "cells": [
  {
   "cell_type": "code",
   "execution_count": 170,
   "metadata": {},
   "outputs": [],
   "source": [
    "from lenskit import batch, topn, util\n",
    "from lenskit import crossfold as xf\n",
    "from lenskit.algorithms import Recommender, als, item_knn as knn\n",
    "from lenskit import topn\n",
    "import pandas as pd\n",
    "from sklearn.model_selection import train_test_split\n",
    "from tqdm import tqdm\n",
    "import time\n",
    "import matplotlib.pyplot as plt\n",
    "import random"
   ]
  },
  {
   "cell_type": "code",
   "execution_count": 171,
   "metadata": {},
   "outputs": [],
   "source": [
    "TRAIN = pd.read_parquet('part-00000-7df55dc3-a829-47cc-8efd-4dc73f5a20f5-c000.snappy.parquet')\n",
    "TEST = pd.read_parquet('part-00000-07807155-469d-43a3-8913-4da643d5504a-c000.snappy.parquet')\n",
    "TEST = TEST.dropna()"
   ]
  },
  {
   "cell_type": "code",
   "execution_count": 172,
   "metadata": {},
   "outputs": [],
   "source": [
    "def sub_sample(train,test,sample_size):\n",
    "    \n",
    "    user_ids = pd.DataFrame(train.user_id.unique())\n",
    "    \n",
    "    training_ids = user_ids.sample(frac=sample_size, random_state=10)\n",
    "    \n",
    "    training_ids = training_ids.rename(columns={0: \"user_id\"})\n",
    "    \n",
    "    final_train = training_ids.merge(train, on = \"user_id\")\n",
    "    \n",
    "    final_test = training_ids.merge(test, on = \"user_id\")\n",
    "    \n",
    "    return final_train, final_test"
   ]
  },
  {
   "cell_type": "code",
   "execution_count": 173,
   "metadata": {},
   "outputs": [],
   "source": [
    "# Initialize the ALS model according to the best parameters from our hyperparameter search\n",
    "algo_als = als.ImplicitMF(features=205, iterations=10, reg=0.01, weight=100)\n",
    "\n",
    "# Define model evaluation function\n",
    "def eval(aname, algo, train, test):\n",
    "    fittable = util.clone(algo)\n",
    "    fittable = Recommender.adapt(fittable)\n",
    "    fittable.fit(train)\n",
    "    users = test.user.unique()\n",
    "    recs = batch.recommend(fittable, users, 500)\n",
    "    recs['Algorithm'] = aname\n",
    "    return recs"
   ]
  },
  {
   "cell_type": "code",
   "execution_count": 185,
   "metadata": {},
   "outputs": [
    {
     "name": "stdout",
     "output_type": "stream",
     "text": [
      "-----------------------------------------\n",
      "nDCG = 0.06918827412331575\n",
      "Time taken for subsample 0.1: 7.799734830856323\n",
      "-----------------------------------------\n",
      "nDCG = 0.08260906161500198\n",
      "Time taken for subsample 0.2: 10.573343992233276\n"
     ]
    }
   ],
   "source": [
    "ss = [.1*i for i in range(1,3)]\n",
    "\n",
    "for s in ss:\n",
    "    \n",
    "    df_train, df_test = sub_sample(TRAIN,TEST,s)\n",
    "\n",
    "    df_train = df_train.rename(columns={'user_id':'user', 'track_id':'item', 'count':'rating'})\n",
    "\n",
    "    df_test = df_test.rename(columns={'user_id':'user', 'track_id':'item', 'count':'rating'})\n",
    "\n",
    "    start_time = time.time()\n",
    "\n",
    "    # Run LensKit model\n",
    "    all_recs = []\n",
    "    test_data = []\n",
    "\n",
    "    test_data.append(df_test)\n",
    "\n",
    "    all_recs.append(eval('ALS', algo_als, df_train, df_test))\n",
    "\n",
    "    all_recs = pd.concat(all_recs, ignore_index=True)           \n",
    "    test_data = pd.concat(test_data, ignore_index=True)\n",
    "\n",
    "    rla = topn.RecListAnalysis()\n",
    "    rla.add_metric(topn.ndcg)\n",
    "    results = rla.compute(all_recs, test_data)\n",
    "\n",
    "    # Print nDCG and elapsed time for the run\n",
    "    print('-----------------------------------------')\n",
    "    nDCG = results.groupby('Algorithm').ndcg.mean()[0]\n",
    "    print('nDCG = {}'.format(nDCG))\n",
    "\n",
    "    end_time = time.time()\n",
    "    elapsed = end_time - start_time\n",
    "    print('Time taken for subsample {}: {}'.format(s, elapsed))"
   ]
  },
  {
   "cell_type": "code",
   "execution_count": 184,
   "metadata": {},
   "outputs": [
    {
     "data": {
      "text/plain": [
       "[0.0, 0.1]"
      ]
     },
     "execution_count": 184,
     "metadata": {},
     "output_type": "execute_result"
    }
   ],
   "source": [
    "ss"
   ]
  },
  {
   "cell_type": "code",
   "execution_count": null,
   "metadata": {},
   "outputs": [],
   "source": []
  }
 ],
 "metadata": {
  "kernelspec": {
   "display_name": "Python 3",
   "language": "python",
   "name": "python3"
  },
  "language_info": {
   "codemirror_mode": {
    "name": "ipython",
    "version": 3
   },
   "file_extension": ".py",
   "mimetype": "text/x-python",
   "name": "python",
   "nbconvert_exporter": "python",
   "pygments_lexer": "ipython3",
   "version": "3.8.5"
  }
 },
 "nbformat": 4,
 "nbformat_minor": 4
}
