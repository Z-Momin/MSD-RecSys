{
 "cells": [
  {
   "cell_type": "code",
   "execution_count": 2,
   "metadata": {},
   "outputs": [],
   "source": [
    "import pandas as pd\n",
    "import numpy as np\n",
    "\n",
    "import matplotlib.pyplot as plt"
   ]
  },
  {
   "cell_type": "code",
   "execution_count": 3,
   "metadata": {},
   "outputs": [],
   "source": [
    "MAP = []\n",
    "alpha = []\n",
    "reg = []\n",
    "rank = []\n",
    "import re\n",
    "p = re.compile('-?\\ *[0-9]+\\.?[0-9]*(?:[Ee]\\ *-?\\ *[0-9]+)?') \n",
    "with open('GS1.txt') as fp:\n",
    "    for line in (fp):\n",
    "        if 'MAP' in line:\n",
    "\n",
    "            MAP.append(float(p.findall(line)[0]))\n",
    "\n",
    "        if 'alpha' in line:\n",
    "\n",
    "            alpha.append(float(p.findall(line)[0]))\n",
    "\n",
    "\n",
    "        if 'regParam' in line:\n",
    "\n",
    "            reg.append(float(p.findall(line)[0]))\n",
    "\n",
    "\n",
    "        if 'rank' in line:\n",
    "\n",
    "            rank.append(float(p.findall(line)[0]))\n",
    "\n"
   ]
  },
  {
   "cell_type": "code",
   "execution_count": 4,
   "metadata": {},
   "outputs": [
    {
     "data": {
      "text/plain": [
       "128"
      ]
     },
     "execution_count": 4,
     "metadata": {},
     "output_type": "execute_result"
    }
   ],
   "source": [
    "len(MAP)"
   ]
  },
  {
   "cell_type": "code",
   "execution_count": null,
   "metadata": {},
   "outputs": [],
   "source": [
    "len(reg)"
   ]
  },
  {
   "cell_type": "code",
   "execution_count": null,
   "metadata": {},
   "outputs": [],
   "source": [
    "with open('GS2.txt') as fp:\n",
    "    for line in (fp):\n",
    "        if 'MAP' in line:\n",
    "\n",
    "            MAP.append(float(p.findall(line)[0]))\n",
    "\n",
    "        if 'alpha' in line:\n",
    "\n",
    "            alpha.append(float(p.findall(line)[0]))\n",
    "\n",
    "\n",
    "        if 'regParam' in line:\n",
    "\n",
    "            reg.append(float(p.findall(line)[0]))\n",
    "\n",
    "\n",
    "        if 'rank' in line:\n",
    "\n",
    "            rank.append(float(p.findall(line)[0]))\n"
   ]
  },
  {
   "cell_type": "code",
   "execution_count": null,
   "metadata": {},
   "outputs": [],
   "source": [
    "len(MAP)"
   ]
  },
  {
   "cell_type": "code",
   "execution_count": null,
   "metadata": {},
   "outputs": [],
   "source": [
    "from mpl_toolkits.mplot3d import Axes3D\n",
    "import matplotlib.pyplot as plt\n",
    "import numpy as np\n",
    "\n",
    "\n",
    "fig = plt.figure(figsize=(35,25))\n",
    "\n",
    "ax = fig.add_subplot(111, projection='3d')\n",
    "\n",
    "y = np.asarray(alpha)\n",
    "x = np.asarray(reg)\n",
    "z = np.asarray(rank)\n",
    "c = np.asarray(MAP)\n",
    "\n",
    "img = ax.scatter(x, y, z, c=c, cmap=plt.cool(),s = 1000)\n",
    "fig.colorbar(img)\n",
    "ax.set_ylabel('alpha',fontsize = 30);\n",
    "ax.set_xlabel('reg',fontsize = 30);\n",
    "ax.set_zlabel('rank',fontsize = 30);\n",
    "ax.xaxis.set_tick_params(labelsize=25)\n",
    "ax.yaxis.set_tick_params(labelsize=25)\n",
    "ax.zaxis.set_tick_params(labelsize=25)"
   ]
  },
  {
   "cell_type": "code",
   "execution_count": null,
   "metadata": {},
   "outputs": [],
   "source": [
    "idx = np.argmax(MAP)"
   ]
  },
  {
   "cell_type": "code",
   "execution_count": null,
   "metadata": {},
   "outputs": [],
   "source": [
    "rank[idx]"
   ]
  },
  {
   "cell_type": "code",
   "execution_count": null,
   "metadata": {},
   "outputs": [],
   "source": [
    "alpha[idx]"
   ]
  },
  {
   "cell_type": "code",
   "execution_count": null,
   "metadata": {},
   "outputs": [],
   "source": [
    "reg[idx]"
   ]
  },
  {
   "cell_type": "code",
   "execution_count": null,
   "metadata": {},
   "outputs": [],
   "source": [
    "np.max(MAP)"
   ]
  },
  {
   "cell_type": "code",
   "execution_count": null,
   "metadata": {},
   "outputs": [],
   "source": [
    "list(zip(alpha, reg,rank,MAP))"
   ]
  },
  {
   "cell_type": "code",
   "execution_count": null,
   "metadata": {},
   "outputs": [],
   "source": [
    "!git add -A\n",
    "!git commit -m “edit”\n",
    "!git push origin FA-Edits"
   ]
  },
  {
   "cell_type": "code",
   "execution_count": null,
   "metadata": {},
   "outputs": [],
   "source": []
  }
 ],
 "metadata": {
  "kernelspec": {
   "display_name": "Python 3",
   "language": "python",
   "name": "python3"
  },
  "language_info": {
   "codemirror_mode": {
    "name": "ipython",
    "version": 3
   },
   "file_extension": ".py",
   "mimetype": "text/x-python",
   "name": "python",
   "nbconvert_exporter": "python",
   "pygments_lexer": "ipython3",
   "version": "3.8.5"
  }
 },
 "nbformat": 4,
 "nbformat_minor": 4
}
